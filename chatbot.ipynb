{
 "cells": [
  {
   "cell_type": "code",
   "execution_count": 2,
   "metadata": {},
   "outputs": [
    {
     "name": "stderr",
     "output_type": "stream",
     "text": [
      "2024-12-31 03:26:09.759 WARNING streamlit.runtime.scriptrunner_utils.script_run_context: Thread 'MainThread': missing ScriptRunContext! This warning can be ignored when running in bare mode.\n",
      "2024-12-31 03:26:09.765 WARNING streamlit.runtime.caching.cache_data_api: No runtime found, using MemoryCacheStorageManager\n"
     ]
    }
   ],
   "source": [
    "from langchain.document_loaders import DirectoryLoader\n",
    "from langchain.text_splitter import CharacterTextSplitter\n",
    "from langchain.embeddings.openai import OpenAIEmbeddings\n",
    "from langchain.chains import retrieval_qa\n",
    "from langchain.chat_models import ChatOpenAI\n",
    "from langchain.vectorstores import DeepLake\n",
    "from streamlit_chat import message\n",
    "from dotenv import load_dotenv\n",
    "\n",
    "\n",
    "import streamlit as st \n",
    "import os \n",
    "\n",
    "load_dotenv\n",
    "\n",
    "\n",
    "@st.cache_data\n",
    "def doc_preprocessing():\n",
    "    loader = DirectoryLoader(\n",
    "        'data/',\n",
    "        glob = '**/*.pdf',  # only the PDFs\n",
    "        show_progress = True\n",
    "    )\n",
    "    docs = loader.load()\n",
    "    text_splitter = CharacterTextSplitter(\n",
    "        chunk_size = 1000,\n",
    "        chunk_overlap = 0\n",
    "    )\n",
    "    docs_split = text_splitter.split_documents(docs)\n",
    "    return docs_split"
   ]
  }
 ],
 "metadata": {
  "kernelspec": {
   "display_name": "venv",
   "language": "python",
   "name": "python3"
  },
  "language_info": {
   "codemirror_mode": {
    "name": "ipython",
    "version": 3
   },
   "file_extension": ".py",
   "mimetype": "text/x-python",
   "name": "python",
   "nbconvert_exporter": "python",
   "pygments_lexer": "ipython3",
   "version": "3.12.3"
  }
 },
 "nbformat": 4,
 "nbformat_minor": 2
}
